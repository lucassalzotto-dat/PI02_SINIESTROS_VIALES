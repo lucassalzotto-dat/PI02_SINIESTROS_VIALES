{
 "cells": [
  {
   "cell_type": "markdown",
   "metadata": {},
   "source": [
    "# Proceso de ETL:\n",
    "\n",
    "## 1. Extracción\n",
    "\n",
    "En esta etapa, se importan las bibliotecas necesarias y se cargan los conjuntos de datos desde archivos Excel. Los archivos fueron descargados desde la página [Buenos Aires Data](https://data.buenosaires.gob.ar/dataset/victimas-siniestros-viales), específicamente los recursos de lesiones y homicidios.\n"
   ]
  },
  {
   "cell_type": "markdown",
   "metadata": {},
   "source": [
    "### Importación de Librerías\n",
    "Se importan las bibliotecas necesarias para llevar a cabo el proceso ETL."
   ]
  },
  {
   "cell_type": "code",
   "execution_count": 1,
   "metadata": {},
   "outputs": [],
   "source": [
    "import pandas as pd\n",
    "import numpy as np"
   ]
  },
  {
   "cell_type": "markdown",
   "metadata": {},
   "source": [
    "### Lectura de Archivos:\n",
    "\n",
    "En esta parte del proceso ETL, se lleva a cabo la lectura de los conjuntos de datos desde archivos Excel. Los archivos se ubican en la ruta './datasets/Originales' y contienen información sobre homicidios y lesiones relacionadas con accidentes viales en la ciudad de Buenos Aires."
   ]
  },
  {
   "cell_type": "code",
   "execution_count": 2,
   "metadata": {},
   "outputs": [],
   "source": [
    "homicidios_hechos= pd.read_excel('../datasets/Originales/homicidios.xlsx',sheet_name = 'HECHOS',na_values=['SD', 'sd'])\n",
    "homicidios_victimas= pd.read_excel('../datasets/Originales/homicidios.xlsx',sheet_name = 'VICTIMAS',na_values=['SD', 'sd'])\n",
    "lesiones_hechos= pd.read_excel('../datasets/Originales/lesiones.xlsx' , sheet_name = 'HECHOS',na_values=['SD', 'sd'])\n",
    "lesiones_victimas= pd.read_excel('../datasets/Originales/lesiones.xlsx' , sheet_name = 'VICTIMAS',na_values=['SD', 'sd'])"
   ]
  },
  {
   "cell_type": "markdown",
   "metadata": {},
   "source": [
    "## 2. Transformación:\n",
    "\n",
    "En esta etapa, se realiza la manipulación y preparación de los datos para su posterior análisis. Las transformaciones que se llevarán a cabo son las siguientes:\n",
    "\n",
    "- **Eliminación de columnas:** Se quitarán aquellas columnas que no se utilizarán en este proyecto.\n",
    "- **Manejo de valores nulos:** Los valores 'SD' y 'sd' se han marcado como valores nulos durante la carga de datos.\n",
    "- **Cambio de tipo de dato:** Se llevará a cabo la conversión de los datos al tipo más conveniente para el análisis.\n",
    "- **Renombrar columnas:** Se realizará el cambio del nombre de las columnas según sea necesario."
   ]
  },
  {
   "cell_type": "markdown",
   "metadata": {},
   "source": [
    "### DataFrame homicidios_hechos"
   ]
  },
  {
   "cell_type": "code",
   "execution_count": 3,
   "metadata": {},
   "outputs": [
    {
     "data": {
      "text/html": [
       "<div>\n",
       "<style scoped>\n",
       "    .dataframe tbody tr th:only-of-type {\n",
       "        vertical-align: middle;\n",
       "    }\n",
       "\n",
       "    .dataframe tbody tr th {\n",
       "        vertical-align: top;\n",
       "    }\n",
       "\n",
       "    .dataframe thead th {\n",
       "        text-align: right;\n",
       "    }\n",
       "</style>\n",
       "<table border=\"1\" class=\"dataframe\">\n",
       "  <thead>\n",
       "    <tr style=\"text-align: right;\">\n",
       "      <th></th>\n",
       "      <th>ID</th>\n",
       "      <th>N_VICTIMAS</th>\n",
       "      <th>FECHA</th>\n",
       "      <th>AAAA</th>\n",
       "      <th>MM</th>\n",
       "      <th>DD</th>\n",
       "      <th>HORA</th>\n",
       "      <th>HH</th>\n",
       "      <th>LUGAR_DEL_HECHO</th>\n",
       "      <th>TIPO_DE_CALLE</th>\n",
       "      <th>...</th>\n",
       "      <th>Altura</th>\n",
       "      <th>Cruce</th>\n",
       "      <th>Dirección Normalizada</th>\n",
       "      <th>COMUNA</th>\n",
       "      <th>XY (CABA)</th>\n",
       "      <th>pos x</th>\n",
       "      <th>pos y</th>\n",
       "      <th>PARTICIPANTES</th>\n",
       "      <th>VICTIMA</th>\n",
       "      <th>ACUSADO</th>\n",
       "    </tr>\n",
       "  </thead>\n",
       "  <tbody>\n",
       "    <tr>\n",
       "      <th>0</th>\n",
       "      <td>2016-0001</td>\n",
       "      <td>1</td>\n",
       "      <td>2016-01-01</td>\n",
       "      <td>2016</td>\n",
       "      <td>1</td>\n",
       "      <td>1</td>\n",
       "      <td>04:00:00</td>\n",
       "      <td>4.0</td>\n",
       "      <td>AV PIEDRA BUENA Y AV FERNANDEZ DE LA CRUZ</td>\n",
       "      <td>AVENIDA</td>\n",
       "      <td>...</td>\n",
       "      <td>NaN</td>\n",
       "      <td>FERNANDEZ DE LA CRUZ, F., GRAL. AV.</td>\n",
       "      <td>PIEDRA BUENA AV. y FERNANDEZ DE LA CRUZ, F., G...</td>\n",
       "      <td>8</td>\n",
       "      <td>Point (98896.78238426 93532.43437792)</td>\n",
       "      <td>-58.47533969</td>\n",
       "      <td>-34.68757022</td>\n",
       "      <td>MOTO-AUTO</td>\n",
       "      <td>MOTO</td>\n",
       "      <td>AUTO</td>\n",
       "    </tr>\n",
       "    <tr>\n",
       "      <th>1</th>\n",
       "      <td>2016-0002</td>\n",
       "      <td>1</td>\n",
       "      <td>2016-01-02</td>\n",
       "      <td>2016</td>\n",
       "      <td>1</td>\n",
       "      <td>2</td>\n",
       "      <td>01:15:00</td>\n",
       "      <td>1.0</td>\n",
       "      <td>AV GRAL PAZ  Y AV DE LOS CORRALES</td>\n",
       "      <td>GRAL PAZ</td>\n",
       "      <td>...</td>\n",
       "      <td>NaN</td>\n",
       "      <td>DE LOS CORRALES AV.</td>\n",
       "      <td>PAZ, GRAL. AV. y DE LOS CORRALES AV.</td>\n",
       "      <td>9</td>\n",
       "      <td>Point (95832.05571093 95505.41641999)</td>\n",
       "      <td>-58.50877521</td>\n",
       "      <td>-34.66977709</td>\n",
       "      <td>AUTO-PASAJEROS</td>\n",
       "      <td>AUTO</td>\n",
       "      <td>PASAJEROS</td>\n",
       "    </tr>\n",
       "    <tr>\n",
       "      <th>2</th>\n",
       "      <td>2016-0003</td>\n",
       "      <td>1</td>\n",
       "      <td>2016-01-03</td>\n",
       "      <td>2016</td>\n",
       "      <td>1</td>\n",
       "      <td>3</td>\n",
       "      <td>07:00:00</td>\n",
       "      <td>7.0</td>\n",
       "      <td>AV ENTRE RIOS 2034</td>\n",
       "      <td>AVENIDA</td>\n",
       "      <td>...</td>\n",
       "      <td>2034.0</td>\n",
       "      <td>NaN</td>\n",
       "      <td>ENTRE RIOS AV. 2034</td>\n",
       "      <td>1</td>\n",
       "      <td>Point (106684.29090040 99706.57687843)</td>\n",
       "      <td>-58.39040293</td>\n",
       "      <td>-34.63189362</td>\n",
       "      <td>MOTO-AUTO</td>\n",
       "      <td>MOTO</td>\n",
       "      <td>AUTO</td>\n",
       "    </tr>\n",
       "    <tr>\n",
       "      <th>3</th>\n",
       "      <td>2016-0004</td>\n",
       "      <td>1</td>\n",
       "      <td>2016-01-10</td>\n",
       "      <td>2016</td>\n",
       "      <td>1</td>\n",
       "      <td>10</td>\n",
       "      <td>00:00:00</td>\n",
       "      <td>0.0</td>\n",
       "      <td>AV LARRAZABAL Y GRAL VILLEGAS CONRADO</td>\n",
       "      <td>AVENIDA</td>\n",
       "      <td>...</td>\n",
       "      <td>NaN</td>\n",
       "      <td>VILLEGAS, CONRADO, GRAL.</td>\n",
       "      <td>LARRAZABAL AV. y VILLEGAS, CONRADO, GRAL.</td>\n",
       "      <td>8</td>\n",
       "      <td>Point (99840.65224780 94269.16534422)</td>\n",
       "      <td>-58.46503904</td>\n",
       "      <td>-34.68092974</td>\n",
       "      <td>MOTO-SD</td>\n",
       "      <td>MOTO</td>\n",
       "      <td>NaN</td>\n",
       "    </tr>\n",
       "    <tr>\n",
       "      <th>4</th>\n",
       "      <td>2016-0005</td>\n",
       "      <td>1</td>\n",
       "      <td>2016-01-21</td>\n",
       "      <td>2016</td>\n",
       "      <td>1</td>\n",
       "      <td>21</td>\n",
       "      <td>05:20:00</td>\n",
       "      <td>5.0</td>\n",
       "      <td>AV SAN JUAN Y PRESIDENTE LUIS SAENZ PEÑA</td>\n",
       "      <td>AVENIDA</td>\n",
       "      <td>...</td>\n",
       "      <td>NaN</td>\n",
       "      <td>SAENZ PE?A, LUIS, PRES.</td>\n",
       "      <td>SAN JUAN AV. y SAENZ PEÃ‘A, LUIS, PRES.</td>\n",
       "      <td>1</td>\n",
       "      <td>Point (106980.32827929 100752.16915795)</td>\n",
       "      <td>-58.38718297</td>\n",
       "      <td>-34.62246630</td>\n",
       "      <td>MOTO-PASAJEROS</td>\n",
       "      <td>MOTO</td>\n",
       "      <td>PASAJEROS</td>\n",
       "    </tr>\n",
       "  </tbody>\n",
       "</table>\n",
       "<p>5 rows × 21 columns</p>\n",
       "</div>"
      ],
      "text/plain": [
       "          ID  N_VICTIMAS      FECHA  AAAA  MM  DD      HORA   HH  \\\n",
       "0  2016-0001           1 2016-01-01  2016   1   1  04:00:00  4.0   \n",
       "1  2016-0002           1 2016-01-02  2016   1   2  01:15:00  1.0   \n",
       "2  2016-0003           1 2016-01-03  2016   1   3  07:00:00  7.0   \n",
       "3  2016-0004           1 2016-01-10  2016   1  10  00:00:00  0.0   \n",
       "4  2016-0005           1 2016-01-21  2016   1  21  05:20:00  5.0   \n",
       "\n",
       "                             LUGAR_DEL_HECHO TIPO_DE_CALLE  ...  Altura  \\\n",
       "0  AV PIEDRA BUENA Y AV FERNANDEZ DE LA CRUZ       AVENIDA  ...     NaN   \n",
       "1          AV GRAL PAZ  Y AV DE LOS CORRALES      GRAL PAZ  ...     NaN   \n",
       "2                         AV ENTRE RIOS 2034       AVENIDA  ...  2034.0   \n",
       "3      AV LARRAZABAL Y GRAL VILLEGAS CONRADO       AVENIDA  ...     NaN   \n",
       "4  AV SAN JUAN Y PRESIDENTE LUIS SAENZ PEÑA        AVENIDA  ...     NaN   \n",
       "\n",
       "                                 Cruce  \\\n",
       "0  FERNANDEZ DE LA CRUZ, F., GRAL. AV.   \n",
       "1                  DE LOS CORRALES AV.   \n",
       "2                                  NaN   \n",
       "3             VILLEGAS, CONRADO, GRAL.   \n",
       "4              SAENZ PE?A, LUIS, PRES.   \n",
       "\n",
       "                               Dirección Normalizada COMUNA  \\\n",
       "0  PIEDRA BUENA AV. y FERNANDEZ DE LA CRUZ, F., G...      8   \n",
       "1               PAZ, GRAL. AV. y DE LOS CORRALES AV.      9   \n",
       "2                                ENTRE RIOS AV. 2034      1   \n",
       "3          LARRAZABAL AV. y VILLEGAS, CONRADO, GRAL.      8   \n",
       "4            SAN JUAN AV. y SAENZ PEÃ‘A, LUIS, PRES.      1   \n",
       "\n",
       "                                 XY (CABA)         pos x         pos y  \\\n",
       "0    Point (98896.78238426 93532.43437792)  -58.47533969  -34.68757022   \n",
       "1    Point (95832.05571093 95505.41641999)  -58.50877521  -34.66977709   \n",
       "2   Point (106684.29090040 99706.57687843)  -58.39040293  -34.63189362   \n",
       "3    Point (99840.65224780 94269.16534422)  -58.46503904  -34.68092974   \n",
       "4  Point (106980.32827929 100752.16915795)  -58.38718297  -34.62246630   \n",
       "\n",
       "    PARTICIPANTES VICTIMA    ACUSADO  \n",
       "0       MOTO-AUTO    MOTO       AUTO  \n",
       "1  AUTO-PASAJEROS    AUTO  PASAJEROS  \n",
       "2       MOTO-AUTO    MOTO       AUTO  \n",
       "3         MOTO-SD    MOTO        NaN  \n",
       "4  MOTO-PASAJEROS    MOTO  PASAJEROS  \n",
       "\n",
       "[5 rows x 21 columns]"
      ]
     },
     "execution_count": 3,
     "metadata": {},
     "output_type": "execute_result"
    }
   ],
   "source": [
    "homicidios_hechos.head()"
   ]
  },
  {
   "cell_type": "markdown",
   "metadata": {},
   "source": [
    "#### Eliminación de columnas"
   ]
  },
  {
   "cell_type": "markdown",
   "metadata": {},
   "source": [
    "La columna FECHA será conservada, mientras que las columnas AAAA, DD, y MM, que hacen referencia a información de la fecha, serán eliminadas."
   ]
  },
  {
   "cell_type": "code",
   "execution_count": 4,
   "metadata": {},
   "outputs": [],
   "source": [
    "homicidios_hechos.drop(columns=['AAAA','DD','MM'],inplace=True)"
   ]
  },
  {
   "cell_type": "markdown",
   "metadata": {},
   "source": [
    "La columna HH, que representa la hora entera, será conservada, mientras que la columna HORA, que incluye los minutos, será eliminada."
   ]
  },
  {
   "cell_type": "code",
   "execution_count": 5,
   "metadata": {},
   "outputs": [],
   "source": [
    "homicidios_hechos.drop(columns=['HORA'],inplace=True)"
   ]
  },
  {
   "cell_type": "markdown",
   "metadata": {},
   "source": [
    "Para la ubicación del hecho, se ha decidido utilizar las columnas `pos X` y `pos Y`, que hacen referencia a la latitud y longitud respectivamente. Por lo tanto, se procederá a eliminar las siguientes columnas:\n",
    "\n",
    "- `LUGAR_DEL_HECHO`\n",
    "- `Calle`\n",
    "- `Altura`\n",
    "- `Cruce`\n",
    "- `Dirección Normalizada`\n",
    "- `XY(CABA)`\n",
    "\n"
   ]
  },
  {
   "cell_type": "code",
   "execution_count": 6,
   "metadata": {},
   "outputs": [],
   "source": [
    "homicidios_hechos.drop(columns=['LUGAR_DEL_HECHO','Calle','Altura','Cruce','Dirección Normalizada','XY (CABA)'],inplace=True)"
   ]
  },
  {
   "cell_type": "markdown",
   "metadata": {},
   "source": [
    "#### Valores nulos"
   ]
  },
  {
   "cell_type": "markdown",
   "metadata": {},
   "source": [
    "Calcular el porcentaje de valores nulos por columnas"
   ]
  },
  {
   "cell_type": "code",
   "execution_count": 7,
   "metadata": {},
   "outputs": [
    {
     "name": "stdout",
     "output_type": "stream",
     "text": [
      "Porcentaje valores nulos\n",
      "------------------------\n",
      "HH         0.143678\n",
      "VICTIMA    1.293103\n",
      "ACUSADO    3.304598\n",
      "dtype: float64\n"
     ]
    }
   ],
   "source": [
    "# Imprimir el porcentaje de los valores nulos\n",
    "print('Porcentaje valores nulos')\n",
    "print('-'*24)\n",
    "print((homicidios_hechos.isnull().sum()[homicidios_hechos.isnull().sum() > 0] / len(homicidios_hechos)) * 100)"
   ]
  },
  {
   "cell_type": "markdown",
   "metadata": {},
   "source": [
    "El porcentaje de valores nulos en el conjunto de datos es bajo, afectando solo a 3 columnas. Sin embargo, se identificaron irregularidades en la columna de \"Comuna\", donde la presencia de \"Comuna 0\" indica una inconsistencia, ya que las comunas deben estar en el rango de 1 a 15. Estos casos también serán tratados como valores nulos. Además, se observaron puntos en las columnas \"Pos X\" y \"Pos Y\", y se decidirá reemplazarlos por valores nulos para mantener la consistencia en la representación de coordenadas geográficas."
   ]
  },
  {
   "cell_type": "code",
   "execution_count": 8,
   "metadata": {},
   "outputs": [],
   "source": [
    "# Reemplazo de la Comuna 0 por Valores Nulos\n",
    "homicidios_hechos.loc[homicidios_hechos['COMUNA'] == 0, 'COMUNA'] = np.nan\n",
    "#Reemplazo de los . por valores nulos de las columnas pos x y pos y\n",
    "\n",
    "homicidios_hechos.loc[homicidios_hechos['pos x'] == '.' ,'pos x'] = np.nan\n",
    "homicidios_hechos.loc[homicidios_hechos['pos y'] == '.' ,'pos y'] = np.nan"
   ]
  },
  {
   "cell_type": "code",
   "execution_count": 9,
   "metadata": {},
   "outputs": [
    {
     "name": "stdout",
     "output_type": "stream",
     "text": [
      "Porcentaje valores nulos\n",
      "------------------------\n",
      "HH         0.143678\n",
      "COMUNA     0.287356\n",
      "pos x      1.724138\n",
      "pos y      1.724138\n",
      "VICTIMA    1.293103\n",
      "ACUSADO    3.304598\n",
      "dtype: float64\n"
     ]
    }
   ],
   "source": [
    "# Imprimir el porcentaje de los valores nulos\n",
    "print('Porcentaje valores nulos')\n",
    "print('-'*24)\n",
    "print((homicidios_hechos.isnull().sum()[homicidios_hechos.isnull().sum() > 0] / len(homicidios_hechos)) * 100)"
   ]
  },
  {
   "cell_type": "markdown",
   "metadata": {},
   "source": [
    "### Cambio de tipos de datos"
   ]
  },
  {
   "cell_type": "markdown",
   "metadata": {},
   "source": [
    "Las columnas 'HH', 'TIPO_DE_CALLE', 'COMUNA' y 'ACUSADO' serán transformadas al tipo de dato categórico."
   ]
  },
  {
   "cell_type": "code",
   "execution_count": 10,
   "metadata": {},
   "outputs": [],
   "source": [
    "# cambio a tipo categórico\n",
    "homicidios_hechos['HH'] = homicidios_hechos['HH'].astype('category')\n",
    "homicidios_hechos['TIPO_DE_CALLE'] = homicidios_hechos['TIPO_DE_CALLE'].astype('category')\n",
    "homicidios_hechos['COMUNA'] = homicidios_hechos['COMUNA'].astype('category')\n",
    "homicidios_hechos['ACUSADO'] = homicidios_hechos['ACUSADO'].astype('category')"
   ]
  },
  {
   "cell_type": "markdown",
   "metadata": {},
   "source": [
    "Las columnas 'pos X' y 'pos Y' serán transformadas al tipo de dato flotante. "
   ]
  },
  {
   "cell_type": "code",
   "execution_count": 11,
   "metadata": {},
   "outputs": [],
   "source": [
    "# cambio a flotante los valores de pos x y pos y\n",
    "homicidios_hechos['pos x'] = homicidios_hechos['pos x'].astype('float')\n",
    "homicidios_hechos['pos y'] = homicidios_hechos['pos y'].astype('float')"
   ]
  },
  {
   "cell_type": "markdown",
   "metadata": {},
   "source": [
    "### Renombrar columnas\n",
    "\n",
    "Todos los nombres de las columnas serán convertidos a minúsculas. "
   ]
  },
  {
   "cell_type": "code",
   "execution_count": 12,
   "metadata": {},
   "outputs": [],
   "source": [
    "homicidios_hechos.columns = homicidios_hechos.columns.str.lower()"
   ]
  },
  {
   "cell_type": "markdown",
   "metadata": {},
   "source": [
    "Renombrar las columnas de 'id', 'pos x' y 'pos y'"
   ]
  },
  {
   "cell_type": "code",
   "execution_count": 13,
   "metadata": {},
   "outputs": [],
   "source": [
    "# Renombrar columnas de ID, Pos X y Pos Y\n",
    "homicidios_hechos.rename(columns={'id': 'id_hecho', 'pos x': 'longitud', 'pos y': 'latitud','tipo_de_calle':'tipo_calle'}, inplace=True)"
   ]
  },
  {
   "cell_type": "markdown",
   "metadata": {},
   "source": [
    "Las columnas 'tipo_calle', 'participantes', 'victima' y 'acusado' cambiaron el contenido de sus filas en minúsculas.  "
   ]
  },
  {
   "cell_type": "code",
   "execution_count": 14,
   "metadata": {},
   "outputs": [],
   "source": [
    "# Cambiar el contenido de las filas a minúsculas\n",
    "columnas_a_minusc = ['tipo_calle', 'participantes', 'victima', 'acusado']\n",
    "homicidios_hechos[columnas_a_minusc] = homicidios_hechos[columnas_a_minusc].apply(lambda x: x.astype(str).str.lower())"
   ]
  },
  {
   "cell_type": "markdown",
   "metadata": {},
   "source": [
    "Para facilitar el análisis en etapas posteriores del proyecto, hemos llevado a cabo la separación de la columna 'participantes' en dos nuevas columnas: 'vehiculo1' y 'vehiculo2'."
   ]
  },
  {
   "cell_type": "code",
   "execution_count": 15,
   "metadata": {},
   "outputs": [],
   "source": [
    "# Crear nuevas columnas 'vehiculo1' y 'vehiculo2' a partir de 'participantes'\n",
    "homicidios_hechos[['vehiculo1', 'vehiculo2']] = homicidios_hechos['participantes'].str.split('-', expand=True)\n",
    "\n",
    "# Reemplazar 'sd' con NaN en ambas columnas\n",
    "homicidios_hechos[['vehiculo1', 'vehiculo2']] = homicidios_hechos[['vehiculo1', 'vehiculo2']].replace('sd',np.nan)\n",
    "\n",
    "#Borrar la columna participantes\n",
    "homicidios_hechos.drop('participantes',axis=1, inplace=True)\n"
   ]
  },
  {
   "cell_type": "markdown",
   "metadata": {},
   "source": [
    "Conversión de los 'nan' a valores nulos"
   ]
  },
  {
   "cell_type": "code",
   "execution_count": 16,
   "metadata": {},
   "outputs": [],
   "source": [
    "homicidios_hechos.replace('nan', np.nan, inplace=True)"
   ]
  },
  {
   "cell_type": "markdown",
   "metadata": {},
   "source": [
    "Creamos la columna 'gravedad' y asignamos el valor 'fatal'"
   ]
  },
  {
   "cell_type": "code",
   "execution_count": 17,
   "metadata": {},
   "outputs": [],
   "source": [
    "homicidios_hechos['gravedad']='fatal'"
   ]
  },
  {
   "cell_type": "markdown",
   "metadata": {},
   "source": [
    "Cambio de nombre de las filas en las columna 'victima'"
   ]
  },
  {
   "cell_type": "code",
   "execution_count": 18,
   "metadata": {},
   "outputs": [],
   "source": [
    "# Definir el diccionario de mapeo para las correcciones ortográficas\n",
    "mapeo_correcciones_victima = {'peaton': 'peatón','movil': 'móvil'}\n",
    "\n",
    "# Aplicar las correcciones a la columna 'victima'\n",
    "homicidios_hechos['victima'] = homicidios_hechos['victima'].replace(mapeo_correcciones_victima)"
   ]
  },
  {
   "cell_type": "code",
   "execution_count": 19,
   "metadata": {},
   "outputs": [
    {
     "data": {
      "text/html": [
       "<div>\n",
       "<style scoped>\n",
       "    .dataframe tbody tr th:only-of-type {\n",
       "        vertical-align: middle;\n",
       "    }\n",
       "\n",
       "    .dataframe tbody tr th {\n",
       "        vertical-align: top;\n",
       "    }\n",
       "\n",
       "    .dataframe thead th {\n",
       "        text-align: right;\n",
       "    }\n",
       "</style>\n",
       "<table border=\"1\" class=\"dataframe\">\n",
       "  <thead>\n",
       "    <tr style=\"text-align: right;\">\n",
       "      <th></th>\n",
       "      <th>id_hecho</th>\n",
       "      <th>n_victimas</th>\n",
       "      <th>fecha</th>\n",
       "      <th>hh</th>\n",
       "      <th>tipo_calle</th>\n",
       "      <th>comuna</th>\n",
       "      <th>longitud</th>\n",
       "      <th>latitud</th>\n",
       "      <th>victima</th>\n",
       "      <th>acusado</th>\n",
       "      <th>vehiculo1</th>\n",
       "      <th>vehiculo2</th>\n",
       "      <th>gravedad</th>\n",
       "    </tr>\n",
       "  </thead>\n",
       "  <tbody>\n",
       "    <tr>\n",
       "      <th>0</th>\n",
       "      <td>2016-0001</td>\n",
       "      <td>1</td>\n",
       "      <td>2016-01-01</td>\n",
       "      <td>4.0</td>\n",
       "      <td>avenida</td>\n",
       "      <td>8.0</td>\n",
       "      <td>-58.475340</td>\n",
       "      <td>-34.687570</td>\n",
       "      <td>moto</td>\n",
       "      <td>auto</td>\n",
       "      <td>moto</td>\n",
       "      <td>auto</td>\n",
       "      <td>fatal</td>\n",
       "    </tr>\n",
       "    <tr>\n",
       "      <th>1</th>\n",
       "      <td>2016-0002</td>\n",
       "      <td>1</td>\n",
       "      <td>2016-01-02</td>\n",
       "      <td>1.0</td>\n",
       "      <td>gral paz</td>\n",
       "      <td>9.0</td>\n",
       "      <td>-58.508775</td>\n",
       "      <td>-34.669777</td>\n",
       "      <td>auto</td>\n",
       "      <td>pasajeros</td>\n",
       "      <td>auto</td>\n",
       "      <td>pasajeros</td>\n",
       "      <td>fatal</td>\n",
       "    </tr>\n",
       "    <tr>\n",
       "      <th>2</th>\n",
       "      <td>2016-0003</td>\n",
       "      <td>1</td>\n",
       "      <td>2016-01-03</td>\n",
       "      <td>7.0</td>\n",
       "      <td>avenida</td>\n",
       "      <td>1.0</td>\n",
       "      <td>-58.390403</td>\n",
       "      <td>-34.631894</td>\n",
       "      <td>moto</td>\n",
       "      <td>auto</td>\n",
       "      <td>moto</td>\n",
       "      <td>auto</td>\n",
       "      <td>fatal</td>\n",
       "    </tr>\n",
       "    <tr>\n",
       "      <th>3</th>\n",
       "      <td>2016-0004</td>\n",
       "      <td>1</td>\n",
       "      <td>2016-01-10</td>\n",
       "      <td>0.0</td>\n",
       "      <td>avenida</td>\n",
       "      <td>8.0</td>\n",
       "      <td>-58.465039</td>\n",
       "      <td>-34.680930</td>\n",
       "      <td>moto</td>\n",
       "      <td>NaN</td>\n",
       "      <td>moto</td>\n",
       "      <td>NaN</td>\n",
       "      <td>fatal</td>\n",
       "    </tr>\n",
       "    <tr>\n",
       "      <th>4</th>\n",
       "      <td>2016-0005</td>\n",
       "      <td>1</td>\n",
       "      <td>2016-01-21</td>\n",
       "      <td>5.0</td>\n",
       "      <td>avenida</td>\n",
       "      <td>1.0</td>\n",
       "      <td>-58.387183</td>\n",
       "      <td>-34.622466</td>\n",
       "      <td>moto</td>\n",
       "      <td>pasajeros</td>\n",
       "      <td>moto</td>\n",
       "      <td>pasajeros</td>\n",
       "      <td>fatal</td>\n",
       "    </tr>\n",
       "  </tbody>\n",
       "</table>\n",
       "</div>"
      ],
      "text/plain": [
       "    id_hecho  n_victimas      fecha   hh tipo_calle comuna   longitud  \\\n",
       "0  2016-0001           1 2016-01-01  4.0    avenida    8.0 -58.475340   \n",
       "1  2016-0002           1 2016-01-02  1.0   gral paz    9.0 -58.508775   \n",
       "2  2016-0003           1 2016-01-03  7.0    avenida    1.0 -58.390403   \n",
       "3  2016-0004           1 2016-01-10  0.0    avenida    8.0 -58.465039   \n",
       "4  2016-0005           1 2016-01-21  5.0    avenida    1.0 -58.387183   \n",
       "\n",
       "     latitud victima    acusado vehiculo1  vehiculo2 gravedad  \n",
       "0 -34.687570    moto       auto      moto       auto    fatal  \n",
       "1 -34.669777    auto  pasajeros      auto  pasajeros    fatal  \n",
       "2 -34.631894    moto       auto      moto       auto    fatal  \n",
       "3 -34.680930    moto        NaN      moto        NaN    fatal  \n",
       "4 -34.622466    moto  pasajeros      moto  pasajeros    fatal  "
      ]
     },
     "execution_count": 19,
     "metadata": {},
     "output_type": "execute_result"
    }
   ],
   "source": [
    "homicidios_hechos.head()"
   ]
  },
  {
   "cell_type": "code",
   "execution_count": 20,
   "metadata": {},
   "outputs": [
    {
     "name": "stdout",
     "output_type": "stream",
     "text": [
      "<class 'pandas.core.frame.DataFrame'>\n",
      "RangeIndex: 696 entries, 0 to 695\n",
      "Data columns (total 13 columns):\n",
      " #   Column      Non-Null Count  Dtype         \n",
      "---  ------      --------------  -----         \n",
      " 0   id_hecho    696 non-null    object        \n",
      " 1   n_victimas  696 non-null    int64         \n",
      " 2   fecha       696 non-null    datetime64[ns]\n",
      " 3   hh          695 non-null    category      \n",
      " 4   tipo_calle  696 non-null    object        \n",
      " 5   comuna      694 non-null    category      \n",
      " 6   longitud    684 non-null    float64       \n",
      " 7   latitud     684 non-null    float64       \n",
      " 8   victima     687 non-null    object        \n",
      " 9   acusado     673 non-null    object        \n",
      " 10  vehiculo1   687 non-null    object        \n",
      " 11  vehiculo2   656 non-null    object        \n",
      " 12  gravedad    696 non-null    object        \n",
      "dtypes: category(2), datetime64[ns](1), float64(2), int64(1), object(7)\n",
      "memory usage: 62.7+ KB\n"
     ]
    }
   ],
   "source": [
    "homicidios_hechos.info()"
   ]
  },
  {
   "cell_type": "markdown",
   "metadata": {},
   "source": [
    "### DataFrame homicidios_victimas"
   ]
  },
  {
   "cell_type": "code",
   "execution_count": 21,
   "metadata": {},
   "outputs": [
    {
     "data": {
      "text/html": [
       "<div>\n",
       "<style scoped>\n",
       "    .dataframe tbody tr th:only-of-type {\n",
       "        vertical-align: middle;\n",
       "    }\n",
       "\n",
       "    .dataframe tbody tr th {\n",
       "        vertical-align: top;\n",
       "    }\n",
       "\n",
       "    .dataframe thead th {\n",
       "        text-align: right;\n",
       "    }\n",
       "</style>\n",
       "<table border=\"1\" class=\"dataframe\">\n",
       "  <thead>\n",
       "    <tr style=\"text-align: right;\">\n",
       "      <th></th>\n",
       "      <th>ID_hecho</th>\n",
       "      <th>FECHA</th>\n",
       "      <th>AAAA</th>\n",
       "      <th>MM</th>\n",
       "      <th>DD</th>\n",
       "      <th>ROL</th>\n",
       "      <th>VICTIMA</th>\n",
       "      <th>SEXO</th>\n",
       "      <th>EDAD</th>\n",
       "      <th>FECHA_FALLECIMIENTO</th>\n",
       "    </tr>\n",
       "  </thead>\n",
       "  <tbody>\n",
       "    <tr>\n",
       "      <th>0</th>\n",
       "      <td>2016-0001</td>\n",
       "      <td>2016-01-01</td>\n",
       "      <td>2016</td>\n",
       "      <td>1</td>\n",
       "      <td>1</td>\n",
       "      <td>CONDUCTOR</td>\n",
       "      <td>MOTO</td>\n",
       "      <td>MASCULINO</td>\n",
       "      <td>19.0</td>\n",
       "      <td>2016-01-01 00:00:00</td>\n",
       "    </tr>\n",
       "    <tr>\n",
       "      <th>1</th>\n",
       "      <td>2016-0002</td>\n",
       "      <td>2016-01-02</td>\n",
       "      <td>2016</td>\n",
       "      <td>1</td>\n",
       "      <td>2</td>\n",
       "      <td>CONDUCTOR</td>\n",
       "      <td>AUTO</td>\n",
       "      <td>MASCULINO</td>\n",
       "      <td>70.0</td>\n",
       "      <td>2016-01-02 00:00:00</td>\n",
       "    </tr>\n",
       "    <tr>\n",
       "      <th>2</th>\n",
       "      <td>2016-0003</td>\n",
       "      <td>2016-01-03</td>\n",
       "      <td>2016</td>\n",
       "      <td>1</td>\n",
       "      <td>3</td>\n",
       "      <td>CONDUCTOR</td>\n",
       "      <td>MOTO</td>\n",
       "      <td>MASCULINO</td>\n",
       "      <td>30.0</td>\n",
       "      <td>2016-01-03 00:00:00</td>\n",
       "    </tr>\n",
       "    <tr>\n",
       "      <th>3</th>\n",
       "      <td>2016-0004</td>\n",
       "      <td>2016-01-10</td>\n",
       "      <td>2016</td>\n",
       "      <td>1</td>\n",
       "      <td>10</td>\n",
       "      <td>CONDUCTOR</td>\n",
       "      <td>MOTO</td>\n",
       "      <td>MASCULINO</td>\n",
       "      <td>18.0</td>\n",
       "      <td>NaN</td>\n",
       "    </tr>\n",
       "    <tr>\n",
       "      <th>4</th>\n",
       "      <td>2016-0005</td>\n",
       "      <td>2016-01-21</td>\n",
       "      <td>2016</td>\n",
       "      <td>1</td>\n",
       "      <td>21</td>\n",
       "      <td>CONDUCTOR</td>\n",
       "      <td>MOTO</td>\n",
       "      <td>MASCULINO</td>\n",
       "      <td>29.0</td>\n",
       "      <td>2016-02-01 00:00:00</td>\n",
       "    </tr>\n",
       "  </tbody>\n",
       "</table>\n",
       "</div>"
      ],
      "text/plain": [
       "    ID_hecho      FECHA  AAAA  MM  DD        ROL VICTIMA       SEXO  EDAD  \\\n",
       "0  2016-0001 2016-01-01  2016   1   1  CONDUCTOR    MOTO  MASCULINO  19.0   \n",
       "1  2016-0002 2016-01-02  2016   1   2  CONDUCTOR    AUTO  MASCULINO  70.0   \n",
       "2  2016-0003 2016-01-03  2016   1   3  CONDUCTOR    MOTO  MASCULINO  30.0   \n",
       "3  2016-0004 2016-01-10  2016   1  10  CONDUCTOR    MOTO  MASCULINO  18.0   \n",
       "4  2016-0005 2016-01-21  2016   1  21  CONDUCTOR    MOTO  MASCULINO  29.0   \n",
       "\n",
       "   FECHA_FALLECIMIENTO  \n",
       "0  2016-01-01 00:00:00  \n",
       "1  2016-01-02 00:00:00  \n",
       "2  2016-01-03 00:00:00  \n",
       "3                  NaN  \n",
       "4  2016-02-01 00:00:00  "
      ]
     },
     "execution_count": 21,
     "metadata": {},
     "output_type": "execute_result"
    }
   ],
   "source": [
    "homicidios_victimas.head()"
   ]
  },
  {
   "cell_type": "markdown",
   "metadata": {},
   "source": [
    "#### Eliminación de columnas"
   ]
  },
  {
   "cell_type": "markdown",
   "metadata": {},
   "source": [
    "La columna FECHA será conservada, mientras que las columnas AAAA, DD, y MM, que hacen referencia a información de la fecha, serán eliminadas."
   ]
  },
  {
   "cell_type": "code",
   "execution_count": 22,
   "metadata": {},
   "outputs": [],
   "source": [
    "#Eliminación de columnas\n",
    "homicidios_victimas.drop(columns=['AAAA','MM','DD','FECHA_FALLECIMIENTO'],inplace=True)"
   ]
  },
  {
   "cell_type": "markdown",
   "metadata": {},
   "source": [
    "#### Valores nulos\n",
    "Calcular el porcentaje de valores nulos por columnas"
   ]
  },
  {
   "cell_type": "code",
   "execution_count": 23,
   "metadata": {},
   "outputs": [
    {
     "name": "stdout",
     "output_type": "stream",
     "text": [
      "Porcentaje valores nulos\n",
      "------------------------\n",
      "ROL        1.534170\n",
      "VICTIMA    1.255230\n",
      "SEXO       0.836820\n",
      "EDAD       7.391911\n",
      "dtype: float64\n"
     ]
    }
   ],
   "source": [
    "# Imprimir el porcentaje de los valores nulos\n",
    "print('Porcentaje valores nulos')\n",
    "print('-'*24)\n",
    "print((homicidios_victimas.isnull().sum()[homicidios_victimas.isnull().sum() > 0] / len(homicidios_victimas)) * 100)"
   ]
  },
  {
   "cell_type": "markdown",
   "metadata": {},
   "source": [
    "### Cambio de tipos de datos\n",
    "\n",
    "Conversión de las columnas 'ROL', 'VICTIMA' y 'SEXO' a tipo categórico"
   ]
  },
  {
   "cell_type": "code",
   "execution_count": 24,
   "metadata": {},
   "outputs": [],
   "source": [
    "# cambio a formato categórico\n",
    "homicidios_victimas['ROL'] = homicidios_victimas['ROL'].astype('category')\n",
    "homicidios_victimas['VICTIMA'] = homicidios_victimas['VICTIMA'].astype('category')\n",
    "homicidios_victimas['SEXO'] = homicidios_victimas['SEXO'].astype('category')\n"
   ]
  },
  {
   "cell_type": "markdown",
   "metadata": {},
   "source": [
    "### Renombrar columnas\n",
    "\n",
    "Todos los nombres de las columnas serán convertidos a minúsculas. "
   ]
  },
  {
   "cell_type": "code",
   "execution_count": 25,
   "metadata": {},
   "outputs": [],
   "source": [
    "homicidios_victimas.columns = homicidios_victimas.columns.str.lower()"
   ]
  },
  {
   "cell_type": "markdown",
   "metadata": {},
   "source": [
    "Cambiamos el nombre de las columnas"
   ]
  },
  {
   "cell_type": "code",
   "execution_count": 26,
   "metadata": {},
   "outputs": [],
   "source": [
    "homicidios_victimas.rename(columns={'edad': 'edad_victima','victima':'vehiculo_victima','sexo':'sexo_victima'}, inplace=True)"
   ]
  },
  {
   "cell_type": "markdown",
   "metadata": {},
   "source": [
    "A las columnas 'rol', 'victima', 'sexo' y 'acusado' se les cambió el contenido de sus filas a minúsculas."
   ]
  },
  {
   "cell_type": "code",
   "execution_count": 27,
   "metadata": {},
   "outputs": [],
   "source": [
    "# Cambiar el contenido de las filas a minúsculas en columnas específicas\n",
    "columnas_a_minusc = ['rol', 'vehiculo_victima', 'sexo_victima']\n",
    "homicidios_victimas[columnas_a_minusc] = homicidios_victimas[columnas_a_minusc].apply(lambda x: x.astype(str).str.lower())"
   ]
  },
  {
   "cell_type": "markdown",
   "metadata": {},
   "source": [
    "Cambio de la etiqueta 'pasajero_acompañante' por 'pasajero' en la columna rol."
   ]
  },
  {
   "cell_type": "code",
   "execution_count": 28,
   "metadata": {},
   "outputs": [],
   "source": [
    "#Cambio de etiqueta\n",
    "homicidios_victimas['rol'].replace('pasajero_acompañante', 'pasajero', inplace=True)"
   ]
  },
  {
   "cell_type": "markdown",
   "metadata": {},
   "source": [
    "Cambiamos 'peaton' por 'peatón' en el rol"
   ]
  },
  {
   "cell_type": "code",
   "execution_count": 29,
   "metadata": {},
   "outputs": [],
   "source": [
    "homicidios_victimas['rol'].replace('peaton', 'peatón', inplace=True)"
   ]
  },
  {
   "cell_type": "markdown",
   "metadata": {},
   "source": [
    "Cambiamos los nombres de la columa 'vehiculo_victima'"
   ]
  },
  {
   "cell_type": "code",
   "execution_count": 30,
   "metadata": {},
   "outputs": [],
   "source": [
    "# Diccionario de correcciones\n",
    "diccionario_correcciones = {'movil': 'móvil', 'peaton': 'peatón'}\n",
    "\n",
    "# Aplicar correcciones\n",
    "homicidios_victimas['vehiculo_victima'] = homicidios_victimas['vehiculo_victima'].replace(diccionario_correcciones)"
   ]
  },
  {
   "cell_type": "markdown",
   "metadata": {},
   "source": [
    "Creamos la columna 'gravedad' y asignamos el valor 'fatal'"
   ]
  },
  {
   "cell_type": "code",
   "execution_count": 31,
   "metadata": {},
   "outputs": [],
   "source": [
    "homicidios_victimas['gravedad'] = 'fatal'"
   ]
  },
  {
   "cell_type": "code",
   "execution_count": 32,
   "metadata": {},
   "outputs": [
    {
     "data": {
      "text/html": [
       "<div>\n",
       "<style scoped>\n",
       "    .dataframe tbody tr th:only-of-type {\n",
       "        vertical-align: middle;\n",
       "    }\n",
       "\n",
       "    .dataframe tbody tr th {\n",
       "        vertical-align: top;\n",
       "    }\n",
       "\n",
       "    .dataframe thead th {\n",
       "        text-align: right;\n",
       "    }\n",
       "</style>\n",
       "<table border=\"1\" class=\"dataframe\">\n",
       "  <thead>\n",
       "    <tr style=\"text-align: right;\">\n",
       "      <th></th>\n",
       "      <th>id_hecho</th>\n",
       "      <th>fecha</th>\n",
       "      <th>rol</th>\n",
       "      <th>vehiculo_victima</th>\n",
       "      <th>sexo_victima</th>\n",
       "      <th>edad_victima</th>\n",
       "      <th>gravedad</th>\n",
       "    </tr>\n",
       "  </thead>\n",
       "  <tbody>\n",
       "    <tr>\n",
       "      <th>0</th>\n",
       "      <td>2016-0001</td>\n",
       "      <td>2016-01-01</td>\n",
       "      <td>conductor</td>\n",
       "      <td>moto</td>\n",
       "      <td>masculino</td>\n",
       "      <td>19.0</td>\n",
       "      <td>fatal</td>\n",
       "    </tr>\n",
       "    <tr>\n",
       "      <th>1</th>\n",
       "      <td>2016-0002</td>\n",
       "      <td>2016-01-02</td>\n",
       "      <td>conductor</td>\n",
       "      <td>auto</td>\n",
       "      <td>masculino</td>\n",
       "      <td>70.0</td>\n",
       "      <td>fatal</td>\n",
       "    </tr>\n",
       "    <tr>\n",
       "      <th>2</th>\n",
       "      <td>2016-0003</td>\n",
       "      <td>2016-01-03</td>\n",
       "      <td>conductor</td>\n",
       "      <td>moto</td>\n",
       "      <td>masculino</td>\n",
       "      <td>30.0</td>\n",
       "      <td>fatal</td>\n",
       "    </tr>\n",
       "    <tr>\n",
       "      <th>3</th>\n",
       "      <td>2016-0004</td>\n",
       "      <td>2016-01-10</td>\n",
       "      <td>conductor</td>\n",
       "      <td>moto</td>\n",
       "      <td>masculino</td>\n",
       "      <td>18.0</td>\n",
       "      <td>fatal</td>\n",
       "    </tr>\n",
       "    <tr>\n",
       "      <th>4</th>\n",
       "      <td>2016-0005</td>\n",
       "      <td>2016-01-21</td>\n",
       "      <td>conductor</td>\n",
       "      <td>moto</td>\n",
       "      <td>masculino</td>\n",
       "      <td>29.0</td>\n",
       "      <td>fatal</td>\n",
       "    </tr>\n",
       "  </tbody>\n",
       "</table>\n",
       "</div>"
      ],
      "text/plain": [
       "    id_hecho      fecha        rol vehiculo_victima sexo_victima  \\\n",
       "0  2016-0001 2016-01-01  conductor             moto    masculino   \n",
       "1  2016-0002 2016-01-02  conductor             auto    masculino   \n",
       "2  2016-0003 2016-01-03  conductor             moto    masculino   \n",
       "3  2016-0004 2016-01-10  conductor             moto    masculino   \n",
       "4  2016-0005 2016-01-21  conductor             moto    masculino   \n",
       "\n",
       "   edad_victima gravedad  \n",
       "0          19.0    fatal  \n",
       "1          70.0    fatal  \n",
       "2          30.0    fatal  \n",
       "3          18.0    fatal  \n",
       "4          29.0    fatal  "
      ]
     },
     "execution_count": 32,
     "metadata": {},
     "output_type": "execute_result"
    }
   ],
   "source": [
    "homicidios_victimas.head()"
   ]
  },
  {
   "cell_type": "markdown",
   "metadata": {},
   "source": [
    "### DataFrame lesiones_hechos"
   ]
  },
  {
   "cell_type": "code",
   "execution_count": 33,
   "metadata": {},
   "outputs": [
    {
     "data": {
      "text/html": [
       "<div>\n",
       "<style scoped>\n",
       "    .dataframe tbody tr th:only-of-type {\n",
       "        vertical-align: middle;\n",
       "    }\n",
       "\n",
       "    .dataframe tbody tr th {\n",
       "        vertical-align: top;\n",
       "    }\n",
       "\n",
       "    .dataframe thead th {\n",
       "        text-align: right;\n",
       "    }\n",
       "</style>\n",
       "<table border=\"1\" class=\"dataframe\">\n",
       "  <thead>\n",
       "    <tr style=\"text-align: right;\">\n",
       "      <th></th>\n",
       "      <th>id</th>\n",
       "      <th>n_victimas</th>\n",
       "      <th>aaaa</th>\n",
       "      <th>mm</th>\n",
       "      <th>dd</th>\n",
       "      <th>fecha</th>\n",
       "      <th>hora</th>\n",
       "      <th>franja_hora</th>\n",
       "      <th>direccion_normalizada</th>\n",
       "      <th>comuna</th>\n",
       "      <th>...</th>\n",
       "      <th>latutid</th>\n",
       "      <th>victima</th>\n",
       "      <th>acusado</th>\n",
       "      <th>participantes</th>\n",
       "      <th>moto</th>\n",
       "      <th>auto</th>\n",
       "      <th>transporte_publico</th>\n",
       "      <th>camion</th>\n",
       "      <th>ciclista</th>\n",
       "      <th>gravedad</th>\n",
       "    </tr>\n",
       "  </thead>\n",
       "  <tbody>\n",
       "    <tr>\n",
       "      <th>0</th>\n",
       "      <td>LC-2019-0000179</td>\n",
       "      <td>1</td>\n",
       "      <td>2019</td>\n",
       "      <td>1</td>\n",
       "      <td>1</td>\n",
       "      <td>2019-01-01 00:00:00</td>\n",
       "      <td>09:00:00</td>\n",
       "      <td>9.0</td>\n",
       "      <td>NaN</td>\n",
       "      <td>14</td>\n",
       "      <td>...</td>\n",
       "      <td>-34.559658</td>\n",
       "      <td>CICLISTA</td>\n",
       "      <td>NaN</td>\n",
       "      <td>CICLISTA-SD</td>\n",
       "      <td>NaN</td>\n",
       "      <td>NaN</td>\n",
       "      <td>NaN</td>\n",
       "      <td>NaN</td>\n",
       "      <td>x</td>\n",
       "      <td>NaN</td>\n",
       "    </tr>\n",
       "    <tr>\n",
       "      <th>1</th>\n",
       "      <td>LC-2019-0000053</td>\n",
       "      <td>1</td>\n",
       "      <td>2019</td>\n",
       "      <td>1</td>\n",
       "      <td>1</td>\n",
       "      <td>2019-01-01 00:00:00</td>\n",
       "      <td>01:55:00</td>\n",
       "      <td>1.0</td>\n",
       "      <td>NaN</td>\n",
       "      <td>8</td>\n",
       "      <td>...</td>\n",
       "      <td>-34.669125</td>\n",
       "      <td>AUTO</td>\n",
       "      <td>NaN</td>\n",
       "      <td>AUTO-SD</td>\n",
       "      <td>NaN</td>\n",
       "      <td>x</td>\n",
       "      <td>NaN</td>\n",
       "      <td>NaN</td>\n",
       "      <td>NaN</td>\n",
       "      <td>NaN</td>\n",
       "    </tr>\n",
       "    <tr>\n",
       "      <th>2</th>\n",
       "      <td>LC-2019-0000063</td>\n",
       "      <td>1</td>\n",
       "      <td>2019</td>\n",
       "      <td>1</td>\n",
       "      <td>1</td>\n",
       "      <td>2019-01-01 00:00:00</td>\n",
       "      <td>02:00:00</td>\n",
       "      <td>2.0</td>\n",
       "      <td>NaN</td>\n",
       "      <td>8</td>\n",
       "      <td>...</td>\n",
       "      <td>-34.677556</td>\n",
       "      <td>NaN</td>\n",
       "      <td>NaN</td>\n",
       "      <td>SD-SD</td>\n",
       "      <td>NaN</td>\n",
       "      <td>NaN</td>\n",
       "      <td>NaN</td>\n",
       "      <td>NaN</td>\n",
       "      <td>NaN</td>\n",
       "      <td>NaN</td>\n",
       "    </tr>\n",
       "    <tr>\n",
       "      <th>3</th>\n",
       "      <td>LC-2019-0000079</td>\n",
       "      <td>1</td>\n",
       "      <td>2019</td>\n",
       "      <td>1</td>\n",
       "      <td>1</td>\n",
       "      <td>2019-01-01 00:00:00</td>\n",
       "      <td>02:30:00</td>\n",
       "      <td>2.0</td>\n",
       "      <td>NaN</td>\n",
       "      <td>7</td>\n",
       "      <td>...</td>\n",
       "      <td>-34.647349</td>\n",
       "      <td>PEATON</td>\n",
       "      <td>NaN</td>\n",
       "      <td>PEATON-SD</td>\n",
       "      <td>x</td>\n",
       "      <td>NaN</td>\n",
       "      <td>NaN</td>\n",
       "      <td>NaN</td>\n",
       "      <td>NaN</td>\n",
       "      <td>NaN</td>\n",
       "    </tr>\n",
       "    <tr>\n",
       "      <th>4</th>\n",
       "      <td>LC-2019-0000082</td>\n",
       "      <td>4</td>\n",
       "      <td>2019</td>\n",
       "      <td>1</td>\n",
       "      <td>1</td>\n",
       "      <td>2019-01-01 00:00:00</td>\n",
       "      <td>04:30:00</td>\n",
       "      <td>4.0</td>\n",
       "      <td>NaN</td>\n",
       "      <td>3</td>\n",
       "      <td>...</td>\n",
       "      <td>-34.604579</td>\n",
       "      <td>AUTO</td>\n",
       "      <td>NaN</td>\n",
       "      <td>AUTO-SD</td>\n",
       "      <td>NaN</td>\n",
       "      <td>NaN</td>\n",
       "      <td>x</td>\n",
       "      <td>NaN</td>\n",
       "      <td>NaN</td>\n",
       "      <td>NaN</td>\n",
       "    </tr>\n",
       "  </tbody>\n",
       "</table>\n",
       "<p>5 rows × 27 columns</p>\n",
       "</div>"
      ],
      "text/plain": [
       "                id  n_victimas  aaaa  mm  dd                fecha      hora  \\\n",
       "0  LC-2019-0000179           1  2019   1   1  2019-01-01 00:00:00  09:00:00   \n",
       "1  LC-2019-0000053           1  2019   1   1  2019-01-01 00:00:00  01:55:00   \n",
       "2  LC-2019-0000063           1  2019   1   1  2019-01-01 00:00:00  02:00:00   \n",
       "3  LC-2019-0000079           1  2019   1   1  2019-01-01 00:00:00  02:30:00   \n",
       "4  LC-2019-0000082           4  2019   1   1  2019-01-01 00:00:00  04:30:00   \n",
       "\n",
       "   franja_hora direccion_normalizada comuna  ...    latutid   victima acusado  \\\n",
       "0          9.0                   NaN     14  ... -34.559658  CICLISTA     NaN   \n",
       "1          1.0                   NaN      8  ... -34.669125      AUTO     NaN   \n",
       "2          2.0                   NaN      8  ... -34.677556       NaN     NaN   \n",
       "3          2.0                   NaN      7  ... -34.647349    PEATON     NaN   \n",
       "4          4.0                   NaN      3  ... -34.604579      AUTO     NaN   \n",
       "\n",
       "   participantes moto auto  transporte_publico  camion ciclista gravedad  \n",
       "0    CICLISTA-SD  NaN  NaN                 NaN     NaN        x      NaN  \n",
       "1        AUTO-SD  NaN    x                 NaN     NaN      NaN      NaN  \n",
       "2          SD-SD  NaN  NaN                 NaN     NaN      NaN      NaN  \n",
       "3      PEATON-SD    x  NaN                 NaN     NaN      NaN      NaN  \n",
       "4        AUTO-SD  NaN  NaN                   x     NaN      NaN      NaN  \n",
       "\n",
       "[5 rows x 27 columns]"
      ]
     },
     "execution_count": 33,
     "metadata": {},
     "output_type": "execute_result"
    }
   ],
   "source": [
    "lesiones_hechos.head()"
   ]
  },
  {
   "cell_type": "markdown",
   "metadata": {},
   "source": [
    "#### Eliminación de columnas\n",
    "La columna 'fecha' será conservada, mientras que las columnas 'aaaa', 'dd', y 'mm', que hacen referencia a información de la fecha, serán eliminadas."
   ]
  },
  {
   "cell_type": "code",
   "execution_count": 34,
   "metadata": {},
   "outputs": [],
   "source": [
    "lesiones_hechos.drop(columns=['aaaa','mm','dd'],inplace=True)"
   ]
  },
  {
   "cell_type": "markdown",
   "metadata": {},
   "source": [
    "La columna 'franja_hora', que representa la hora entera, será conservada, mientras que la columna 'hora', que incluye los minutos, será eliminada."
   ]
  },
  {
   "cell_type": "code",
   "execution_count": 35,
   "metadata": {},
   "outputs": [],
   "source": [
    "lesiones_hechos.drop(columns=['hora'],inplace=True)"
   ]
  },
  {
   "cell_type": "markdown",
   "metadata": {},
   "source": [
    "Para la ubicación del hecho, se ha decidido utilizar las columnas `latitud` y `longitud`. Por lo tanto, se procederá a eliminar las siguientes columnas:\n",
    "\n",
    "- `otra_direccion`\n",
    "- `calle`\n",
    "- `altura`\n",
    "- `cruce`\n",
    "- `geocodificacion_CABA`\n",
    "- `direccion_normalizada`"
   ]
  },
  {
   "cell_type": "code",
   "execution_count": 36,
   "metadata": {},
   "outputs": [],
   "source": [
    "lesiones_hechos.drop(columns=['otra_direccion','calle','altura','cruce','geocodificacion_CABA','direccion_normalizada'],inplace=True)"
   ]
  },
  {
   "cell_type": "markdown",
   "metadata": {},
   "source": [
    "En la columna 'participantes', se detalla la información sobre los involucrados en el incidente, lo cual hace que las columnas específicas para detallar la presencia de moto, auto, transporte público, camión y ciclista resulten redundantes. "
   ]
  },
  {
   "cell_type": "code",
   "execution_count": 37,
   "metadata": {},
   "outputs": [],
   "source": [
    "lesiones_hechos.drop(columns=['moto','auto','transporte_publico','camion','ciclista'],inplace=True)"
   ]
  },
  {
   "cell_type": "markdown",
   "metadata": {},
   "source": [
    "#### Valores nulos\n",
    "Calcular el porcentaje de valores nulos por columnas\n"
   ]
  },
  {
   "cell_type": "code",
   "execution_count": 38,
   "metadata": {},
   "outputs": [
    {
     "name": "stdout",
     "output_type": "stream",
     "text": [
      "Porcentaje valores nulos\n",
      "------------------------\n",
      "franja_hora     0.037839\n",
      "comuna          4.267395\n",
      "tipo_calle     46.436830\n",
      "longitud        6.184570\n",
      "latutid         6.184570\n",
      "victima        45.125079\n",
      "acusado        64.275804\n",
      "gravedad       97.284003\n",
      "dtype: float64\n"
     ]
    }
   ],
   "source": [
    "# Imprimir el porcentaje de los valores nulos\n",
    "print('Porcentaje valores nulos')\n",
    "print('-'*24)\n",
    "print((lesiones_hechos.isnull().sum()[lesiones_hechos.isnull().sum() > 0] / len(lesiones_hechos)) * 100)"
   ]
  },
  {
   "cell_type": "markdown",
   "metadata": {},
   "source": [
    "Los valores nulos presentes en la columna 'gravedad' serán sustituidos por 'leves', conforme a las indicaciones proporcionadas en el diccionario de datos, donde se establece que los valores nulos deben ser interpretados como incidentes de gravedad leve"
   ]
  },
  {
   "cell_type": "code",
   "execution_count": 39,
   "metadata": {},
   "outputs": [],
   "source": [
    "lesiones_hechos['gravedad'].fillna('leve', inplace=True)"
   ]
  },
  {
   "cell_type": "markdown",
   "metadata": {},
   "source": [
    "En la columna 'comuna', los datos etiquetados como 'No Especificada' serán convertidos a valores nulos. "
   ]
  },
  {
   "cell_type": "code",
   "execution_count": 40,
   "metadata": {},
   "outputs": [],
   "source": [
    "lesiones_hechos['comuna'].replace('No Especificada',np.nan,inplace=True)"
   ]
  },
  {
   "cell_type": "markdown",
   "metadata": {},
   "source": [
    "### Cambio de tipos de datos\n",
    "Las columnas 'franja_hora', 'tipo_calle', 'comuna' y 'acusado' serán transformadas al tipo de dato categórico."
   ]
  },
  {
   "cell_type": "code",
   "execution_count": 41,
   "metadata": {},
   "outputs": [],
   "source": [
    "# cambio a tipo categórico\n",
    "lesiones_hechos['franja_hora'] = lesiones_hechos['franja_hora'].astype('category')\n",
    "lesiones_hechos['tipo_calle'] = lesiones_hechos['tipo_calle'].astype('category')\n",
    "lesiones_hechos['comuna'] = lesiones_hechos['comuna'].astype('category')\n",
    "lesiones_hechos['acusado'] = lesiones_hechos['acusado'].astype('category')"
   ]
  },
  {
   "cell_type": "markdown",
   "metadata": {},
   "source": [
    "Las columnas de 'longitud' y 'latitud', serán convertidas al tipo de dato flotante. "
   ]
  },
  {
   "cell_type": "code",
   "execution_count": 42,
   "metadata": {},
   "outputs": [],
   "source": [
    "# cambio a flotante los valores de pos x y pos y\n",
    "lesiones_hechos['longitud'] = lesiones_hechos['longitud'].astype('float')\n",
    "lesiones_hechos['latutid'] = lesiones_hechos['latutid'].astype('float')"
   ]
  },
  {
   "cell_type": "markdown",
   "metadata": {},
   "source": [
    "La columna 'fecha' será pasada a formato fecha"
   ]
  },
  {
   "cell_type": "code",
   "execution_count": 43,
   "metadata": {},
   "outputs": [],
   "source": [
    "# Convierte la columna 'fecha' a formato datetime\n",
    "lesiones_hechos['fecha'] = pd.to_datetime(lesiones_hechos['fecha'], errors='coerce')"
   ]
  },
  {
   "cell_type": "markdown",
   "metadata": {},
   "source": [
    "### Renombrar columnas\n",
    "Renombrar las columnas de 'lesiones_hechos' para que concuerden con los nombres de las columnas de 'homicidios_hechos'."
   ]
  },
  {
   "cell_type": "code",
   "execution_count": 44,
   "metadata": {},
   "outputs": [],
   "source": [
    "# Renombrar columnas en lesiones_hechos\n",
    "lesiones_hechos.rename(columns={'id': 'id_hecho', 'franja_hora': 'hh', 'latutid': 'latitud'}, inplace=True)"
   ]
  },
  {
   "cell_type": "markdown",
   "metadata": {},
   "source": [
    "Para facilitar el análisis en etapas posteriores del proyecto, hemos llevado a cabo la separación de la columna 'participantes' en dos nuevas columnas: 'vehiculo1' y 'vehiculo2'."
   ]
  },
  {
   "cell_type": "code",
   "execution_count": 45,
   "metadata": {},
   "outputs": [],
   "source": [
    "# Crear nuevas columnas 'vehiculo1' y 'vehiculo2' a partir de 'participantes'\n",
    "lesiones_hechos[['vehiculo1', 'vehiculo2']] = lesiones_hechos['participantes'].str.split('-', expand=True)\n",
    "\n",
    "# Reemplazar 'sd' con NaN en ambas columnas\n",
    "lesiones_hechos[['vehiculo1', 'vehiculo2']] = lesiones_hechos[['vehiculo1', 'vehiculo2']].replace('SD',np.nan)\n",
    "\n",
    "#Borrar la columna participantes\n",
    "lesiones_hechos.drop('participantes',axis=1, inplace=True)"
   ]
  },
  {
   "cell_type": "markdown",
   "metadata": {},
   "source": [
    "Las columnas 'tipo_calle', 'gravedad', 'victima' , 'acusado',vehiculo1 y vehiculo2 cambiaron el contenido de sus filas a minúsculas. Y se hacen cambios de nombres para coincidir con 'homicidios_hechos'."
   ]
  },
  {
   "cell_type": "code",
   "execution_count": 46,
   "metadata": {},
   "outputs": [],
   "source": [
    "# Transformar a minúsculas las columnas en lesiones_hechos\n",
    "columnas_a_minusc = ['tipo_calle', 'gravedad', 'victima', 'acusado', 'vehiculo1', 'vehiculo2']\n",
    "lesiones_hechos[columnas_a_minusc] = lesiones_hechos[columnas_a_minusc].apply(lambda x: x.astype(str).str.lower())\n",
    "\n",
    "# Definir el diccionario de mapeo para las correcciones ortográficas en la columna 'victima'\n",
    "mapeo_correcciones_victima_lesiones = {'ciclista': 'bicicleta','peaton': 'peatón','transporte publico': 'transporte público','movil': 'móvil','otro': 'otro',\n",
    "'camion': 'camión','monopatin': 'monopatín','utilitario': 'utilitario',\n",
    "\n",
    "}\n",
    "\n",
    "# Aplicar las correcciones a la columna 'victima' en 'lesiones_hechos'\n",
    "lesiones_hechos['victima'] = lesiones_hechos['victima'].replace(mapeo_correcciones_victima_lesiones)\n"
   ]
  },
  {
   "cell_type": "markdown",
   "metadata": {},
   "source": [
    "Convertimos los 'nan' en valores nulos"
   ]
  },
  {
   "cell_type": "code",
   "execution_count": 47,
   "metadata": {},
   "outputs": [],
   "source": [
    "lesiones_hechos.replace('nan', np.nan, inplace=True)"
   ]
  },
  {
   "cell_type": "code",
   "execution_count": 48,
   "metadata": {},
   "outputs": [
    {
     "data": {
      "text/html": [
       "<div>\n",
       "<style scoped>\n",
       "    .dataframe tbody tr th:only-of-type {\n",
       "        vertical-align: middle;\n",
       "    }\n",
       "\n",
       "    .dataframe tbody tr th {\n",
       "        vertical-align: top;\n",
       "    }\n",
       "\n",
       "    .dataframe thead th {\n",
       "        text-align: right;\n",
       "    }\n",
       "</style>\n",
       "<table border=\"1\" class=\"dataframe\">\n",
       "  <thead>\n",
       "    <tr style=\"text-align: right;\">\n",
       "      <th></th>\n",
       "      <th>id_hecho</th>\n",
       "      <th>n_victimas</th>\n",
       "      <th>fecha</th>\n",
       "      <th>hh</th>\n",
       "      <th>comuna</th>\n",
       "      <th>tipo_calle</th>\n",
       "      <th>longitud</th>\n",
       "      <th>latitud</th>\n",
       "      <th>victima</th>\n",
       "      <th>acusado</th>\n",
       "      <th>gravedad</th>\n",
       "      <th>vehiculo1</th>\n",
       "      <th>vehiculo2</th>\n",
       "    </tr>\n",
       "  </thead>\n",
       "  <tbody>\n",
       "    <tr>\n",
       "      <th>0</th>\n",
       "      <td>LC-2019-0000179</td>\n",
       "      <td>1</td>\n",
       "      <td>2019-01-01</td>\n",
       "      <td>9.0</td>\n",
       "      <td>14.0</td>\n",
       "      <td>NaN</td>\n",
       "      <td>-58.408911</td>\n",
       "      <td>-34.559658</td>\n",
       "      <td>bicicleta</td>\n",
       "      <td>NaN</td>\n",
       "      <td>leve</td>\n",
       "      <td>ciclista</td>\n",
       "      <td>NaN</td>\n",
       "    </tr>\n",
       "    <tr>\n",
       "      <th>1</th>\n",
       "      <td>LC-2019-0000053</td>\n",
       "      <td>1</td>\n",
       "      <td>2019-01-01</td>\n",
       "      <td>1.0</td>\n",
       "      <td>8.0</td>\n",
       "      <td>NaN</td>\n",
       "      <td>-58.443510</td>\n",
       "      <td>-34.669125</td>\n",
       "      <td>auto</td>\n",
       "      <td>NaN</td>\n",
       "      <td>leve</td>\n",
       "      <td>auto</td>\n",
       "      <td>NaN</td>\n",
       "    </tr>\n",
       "    <tr>\n",
       "      <th>2</th>\n",
       "      <td>LC-2019-0000063</td>\n",
       "      <td>1</td>\n",
       "      <td>2019-01-01</td>\n",
       "      <td>2.0</td>\n",
       "      <td>8.0</td>\n",
       "      <td>NaN</td>\n",
       "      <td>-58.468335</td>\n",
       "      <td>-34.677556</td>\n",
       "      <td>NaN</td>\n",
       "      <td>NaN</td>\n",
       "      <td>leve</td>\n",
       "      <td>NaN</td>\n",
       "      <td>NaN</td>\n",
       "    </tr>\n",
       "    <tr>\n",
       "      <th>3</th>\n",
       "      <td>LC-2019-0000079</td>\n",
       "      <td>1</td>\n",
       "      <td>2019-01-01</td>\n",
       "      <td>2.0</td>\n",
       "      <td>7.0</td>\n",
       "      <td>NaN</td>\n",
       "      <td>-58.437425</td>\n",
       "      <td>-34.647349</td>\n",
       "      <td>peatón</td>\n",
       "      <td>NaN</td>\n",
       "      <td>leve</td>\n",
       "      <td>peaton</td>\n",
       "      <td>NaN</td>\n",
       "    </tr>\n",
       "    <tr>\n",
       "      <th>4</th>\n",
       "      <td>LC-2019-0000082</td>\n",
       "      <td>4</td>\n",
       "      <td>2019-01-01</td>\n",
       "      <td>4.0</td>\n",
       "      <td>3.0</td>\n",
       "      <td>NaN</td>\n",
       "      <td>-58.398225</td>\n",
       "      <td>-34.604579</td>\n",
       "      <td>auto</td>\n",
       "      <td>NaN</td>\n",
       "      <td>leve</td>\n",
       "      <td>auto</td>\n",
       "      <td>NaN</td>\n",
       "    </tr>\n",
       "  </tbody>\n",
       "</table>\n",
       "</div>"
      ],
      "text/plain": [
       "          id_hecho  n_victimas      fecha   hh comuna tipo_calle   longitud  \\\n",
       "0  LC-2019-0000179           1 2019-01-01  9.0   14.0        NaN -58.408911   \n",
       "1  LC-2019-0000053           1 2019-01-01  1.0    8.0        NaN -58.443510   \n",
       "2  LC-2019-0000063           1 2019-01-01  2.0    8.0        NaN -58.468335   \n",
       "3  LC-2019-0000079           1 2019-01-01  2.0    7.0        NaN -58.437425   \n",
       "4  LC-2019-0000082           4 2019-01-01  4.0    3.0        NaN -58.398225   \n",
       "\n",
       "     latitud    victima acusado gravedad vehiculo1 vehiculo2  \n",
       "0 -34.559658  bicicleta     NaN     leve  ciclista       NaN  \n",
       "1 -34.669125       auto     NaN     leve      auto       NaN  \n",
       "2 -34.677556        NaN     NaN     leve       NaN       NaN  \n",
       "3 -34.647349     peatón     NaN     leve    peaton       NaN  \n",
       "4 -34.604579       auto     NaN     leve      auto       NaN  "
      ]
     },
     "execution_count": 48,
     "metadata": {},
     "output_type": "execute_result"
    }
   ],
   "source": [
    "lesiones_hechos.head()"
   ]
  },
  {
   "cell_type": "markdown",
   "metadata": {},
   "source": [
    "### DataFrame lesiones_victimas"
   ]
  },
  {
   "cell_type": "code",
   "execution_count": 49,
   "metadata": {},
   "outputs": [
    {
     "data": {
      "text/html": [
       "<div>\n",
       "<style scoped>\n",
       "    .dataframe tbody tr th:only-of-type {\n",
       "        vertical-align: middle;\n",
       "    }\n",
       "\n",
       "    .dataframe tbody tr th {\n",
       "        vertical-align: top;\n",
       "    }\n",
       "\n",
       "    .dataframe thead th {\n",
       "        text-align: right;\n",
       "    }\n",
       "</style>\n",
       "<table border=\"1\" class=\"dataframe\">\n",
       "  <thead>\n",
       "    <tr style=\"text-align: right;\">\n",
       "      <th></th>\n",
       "      <th>ID hecho</th>\n",
       "      <th>AAA</th>\n",
       "      <th>MM</th>\n",
       "      <th>DD</th>\n",
       "      <th>FECHA</th>\n",
       "      <th>VEHICULO_VICTIMA</th>\n",
       "      <th>SEXO</th>\n",
       "      <th>EDAD_VICTIMA</th>\n",
       "      <th>GRAVEDAD</th>\n",
       "    </tr>\n",
       "  </thead>\n",
       "  <tbody>\n",
       "    <tr>\n",
       "      <th>0</th>\n",
       "      <td>LC-2019-0000053</td>\n",
       "      <td>2019</td>\n",
       "      <td>1</td>\n",
       "      <td>1</td>\n",
       "      <td>2019-01-01</td>\n",
       "      <td>NaN</td>\n",
       "      <td>Varon</td>\n",
       "      <td>57.0</td>\n",
       "      <td>NaN</td>\n",
       "    </tr>\n",
       "    <tr>\n",
       "      <th>1</th>\n",
       "      <td>LC-2019-0000063</td>\n",
       "      <td>2019</td>\n",
       "      <td>1</td>\n",
       "      <td>1</td>\n",
       "      <td>2019-01-01</td>\n",
       "      <td>NaN</td>\n",
       "      <td>NaN</td>\n",
       "      <td>NaN</td>\n",
       "      <td>NaN</td>\n",
       "    </tr>\n",
       "    <tr>\n",
       "      <th>2</th>\n",
       "      <td>LC-2019-0000079</td>\n",
       "      <td>2019</td>\n",
       "      <td>1</td>\n",
       "      <td>1</td>\n",
       "      <td>2019-01-01</td>\n",
       "      <td>NaN</td>\n",
       "      <td>Varon</td>\n",
       "      <td>NaN</td>\n",
       "      <td>NaN</td>\n",
       "    </tr>\n",
       "    <tr>\n",
       "      <th>3</th>\n",
       "      <td>LC-2019-0000082</td>\n",
       "      <td>2019</td>\n",
       "      <td>1</td>\n",
       "      <td>1</td>\n",
       "      <td>2019-01-01</td>\n",
       "      <td>NaN</td>\n",
       "      <td>Varon</td>\n",
       "      <td>45.0</td>\n",
       "      <td>NaN</td>\n",
       "    </tr>\n",
       "    <tr>\n",
       "      <th>4</th>\n",
       "      <td>LC-2019-0000082</td>\n",
       "      <td>2019</td>\n",
       "      <td>1</td>\n",
       "      <td>1</td>\n",
       "      <td>2019-01-01</td>\n",
       "      <td>NaN</td>\n",
       "      <td>Mujer</td>\n",
       "      <td>45.0</td>\n",
       "      <td>NaN</td>\n",
       "    </tr>\n",
       "  </tbody>\n",
       "</table>\n",
       "</div>"
      ],
      "text/plain": [
       "          ID hecho   AAA  MM  DD     FECHA  VEHICULO_VICTIMA   SEXO  \\\n",
       "0  LC-2019-0000053  2019   1   1 2019-01-01              NaN  Varon   \n",
       "1  LC-2019-0000063  2019   1   1 2019-01-01              NaN    NaN   \n",
       "2  LC-2019-0000079  2019   1   1 2019-01-01              NaN  Varon   \n",
       "3  LC-2019-0000082  2019   1   1 2019-01-01              NaN  Varon   \n",
       "4  LC-2019-0000082  2019   1   1 2019-01-01              NaN  Mujer   \n",
       "\n",
       "   EDAD_VICTIMA GRAVEDAD  \n",
       "0          57.0      NaN  \n",
       "1           NaN      NaN  \n",
       "2           NaN      NaN  \n",
       "3          45.0      NaN  \n",
       "4          45.0      NaN  "
      ]
     },
     "execution_count": 49,
     "metadata": {},
     "output_type": "execute_result"
    }
   ],
   "source": [
    "lesiones_victimas.head()"
   ]
  },
  {
   "cell_type": "markdown",
   "metadata": {},
   "source": [
    "La columna 'FECHA' será conservada, mientras que las columnas 'AAA', 'DD', y 'MM', que hacen referencia a información de la fecha, serán eliminadas."
   ]
  },
  {
   "cell_type": "code",
   "execution_count": 50,
   "metadata": {},
   "outputs": [],
   "source": [
    "#Eliminación de columnas\n",
    "lesiones_victimas.drop(columns=['AAA','MM','DD'],inplace=True)"
   ]
  },
  {
   "cell_type": "markdown",
   "metadata": {},
   "source": [
    "#### Valores nulos\n",
    "Calcular el porcentaje de valores nulos por columnas"
   ]
  },
  {
   "cell_type": "code",
   "execution_count": 51,
   "metadata": {},
   "outputs": [
    {
     "name": "stdout",
     "output_type": "stream",
     "text": [
      "Porcentaje valores nulos\n",
      "------------------------\n",
      "VEHICULO_VICTIMA    58.945843\n",
      "SEXO                 8.071002\n",
      "EDAD_VICTIMA        16.196341\n",
      "GRAVEDAD            98.054700\n",
      "dtype: float64\n"
     ]
    }
   ],
   "source": [
    "# Imprimir el porcentaje de los valores nulos\n",
    "print('Porcentaje valores nulos')\n",
    "print('-'*24)\n",
    "print((lesiones_victimas.isnull().sum()[lesiones_victimas.isnull().sum() > 0] / len(lesiones_victimas)) * 100)"
   ]
  },
  {
   "cell_type": "markdown",
   "metadata": {},
   "source": [
    "Los valores nulos presentes en la columna 'GRAVEDAD' serán sustituidos por 'leves', conforme a las indicaciones proporcionadas en el diccionario de datos, donde se establece que los valores nulos deben ser interpretados como incidentes de gravedad leve"
   ]
  },
  {
   "cell_type": "code",
   "execution_count": 52,
   "metadata": {},
   "outputs": [],
   "source": [
    "lesiones_victimas['GRAVEDAD'].fillna('leve', inplace=True)"
   ]
  },
  {
   "cell_type": "markdown",
   "metadata": {},
   "source": [
    "### Cambio de tipos de datos\n",
    "\n",
    "Conversión de las columnas 'VEHICULO_VICTIMA', 'GRAVEDAD' y 'SEXO' a tipo categórico"
   ]
  },
  {
   "cell_type": "code",
   "execution_count": 53,
   "metadata": {},
   "outputs": [],
   "source": [
    "# cambio a tipo categórico\n",
    "lesiones_victimas['VEHICULO_VICTIMA'] = lesiones_victimas['VEHICULO_VICTIMA'].astype('category')\n",
    "lesiones_victimas['GRAVEDAD'] = lesiones_victimas['GRAVEDAD'].astype('category')\n",
    "lesiones_victimas['SEXO'] = lesiones_victimas['SEXO'].astype('category')"
   ]
  },
  {
   "cell_type": "markdown",
   "metadata": {},
   "source": [
    "### Renombrar columnas\n",
    "Renombrar las columnas de lesiones_victimas para que concuerden con los nombres de las columnas de homicidios_victimas."
   ]
  },
  {
   "cell_type": "code",
   "execution_count": 54,
   "metadata": {},
   "outputs": [],
   "source": [
    "# Transformar a minúsculas todas las columnas en lesiones_victimas\n",
    "lesiones_victimas.columns = lesiones_victimas.columns.str.lower()\n",
    "# Renombrar columnas en lesiones_victimas\n",
    "lesiones_victimas.rename(columns={'id hecho': 'id_hecho', 'fecha ': 'fecha', 'sexo': 'sexo_victima'}, inplace=True)\n"
   ]
  },
  {
   "cell_type": "markdown",
   "metadata": {},
   "source": [
    "Las columnas 'vehiculo_victima', 'sexo_victima' y 'gravedad' se han transformado a minúsculas "
   ]
  },
  {
   "cell_type": "code",
   "execution_count": 55,
   "metadata": {},
   "outputs": [],
   "source": [
    "lesiones_victimas[['vehiculo_victima', 'sexo_victima', 'gravedad']] = lesiones_victimas[['vehiculo_victima', 'sexo_victima', 'gravedad']].apply(lambda x: x.astype(str).str.lower())"
   ]
  },
  {
   "cell_type": "markdown",
   "metadata": {},
   "source": [
    "La columna 'sexo_victima', los valores 'varon' y 'mujer' serán cambiados por 'masculino' y 'femenino'."
   ]
  },
  {
   "cell_type": "code",
   "execution_count": 56,
   "metadata": {},
   "outputs": [],
   "source": [
    "lesiones_victimas['sexo_victima'].replace({'varon': 'masculino', 'mujer': 'femenino','mujer ': 'femenino'}, inplace=True)"
   ]
  },
  {
   "cell_type": "markdown",
   "metadata": {},
   "source": [
    "Corregimos la ortografía de la columna 'vehiculo_victima'."
   ]
  },
  {
   "cell_type": "code",
   "execution_count": 57,
   "metadata": {},
   "outputs": [],
   "source": [
    "# Diccionario\n",
    "diccionario_correcciones = {'movil': 'móvil','camion': 'camión','monopatin': 'monopatín','peaton':'peatón','ciclista':'bicicleta',\n",
    "                            'transporte publico':'transporte público'}\n",
    "#Correción\n",
    "lesiones_victimas['vehiculo_victima'] = lesiones_victimas['vehiculo_victima'].replace(diccionario_correcciones.keys(), diccionario_correcciones.values(), regex=True)"
   ]
  },
  {
   "cell_type": "markdown",
   "metadata": {},
   "source": [
    "Convertimos los valores 'nan' en valores nulos"
   ]
  },
  {
   "cell_type": "code",
   "execution_count": 58,
   "metadata": {},
   "outputs": [],
   "source": [
    "lesiones_victimas.replace('nan', np.nan, inplace=True)"
   ]
  },
  {
   "cell_type": "code",
   "execution_count": 59,
   "metadata": {},
   "outputs": [
    {
     "data": {
      "text/html": [
       "<div>\n",
       "<style scoped>\n",
       "    .dataframe tbody tr th:only-of-type {\n",
       "        vertical-align: middle;\n",
       "    }\n",
       "\n",
       "    .dataframe tbody tr th {\n",
       "        vertical-align: top;\n",
       "    }\n",
       "\n",
       "    .dataframe thead th {\n",
       "        text-align: right;\n",
       "    }\n",
       "</style>\n",
       "<table border=\"1\" class=\"dataframe\">\n",
       "  <thead>\n",
       "    <tr style=\"text-align: right;\">\n",
       "      <th></th>\n",
       "      <th>id_hecho</th>\n",
       "      <th>fecha</th>\n",
       "      <th>vehiculo_victima</th>\n",
       "      <th>sexo_victima</th>\n",
       "      <th>edad_victima</th>\n",
       "      <th>gravedad</th>\n",
       "    </tr>\n",
       "  </thead>\n",
       "  <tbody>\n",
       "    <tr>\n",
       "      <th>0</th>\n",
       "      <td>LC-2019-0000053</td>\n",
       "      <td>2019-01-01</td>\n",
       "      <td>NaN</td>\n",
       "      <td>masculino</td>\n",
       "      <td>57.0</td>\n",
       "      <td>leve</td>\n",
       "    </tr>\n",
       "    <tr>\n",
       "      <th>1</th>\n",
       "      <td>LC-2019-0000063</td>\n",
       "      <td>2019-01-01</td>\n",
       "      <td>NaN</td>\n",
       "      <td>NaN</td>\n",
       "      <td>NaN</td>\n",
       "      <td>leve</td>\n",
       "    </tr>\n",
       "    <tr>\n",
       "      <th>2</th>\n",
       "      <td>LC-2019-0000079</td>\n",
       "      <td>2019-01-01</td>\n",
       "      <td>NaN</td>\n",
       "      <td>masculino</td>\n",
       "      <td>NaN</td>\n",
       "      <td>leve</td>\n",
       "    </tr>\n",
       "    <tr>\n",
       "      <th>3</th>\n",
       "      <td>LC-2019-0000082</td>\n",
       "      <td>2019-01-01</td>\n",
       "      <td>NaN</td>\n",
       "      <td>masculino</td>\n",
       "      <td>45.0</td>\n",
       "      <td>leve</td>\n",
       "    </tr>\n",
       "    <tr>\n",
       "      <th>4</th>\n",
       "      <td>LC-2019-0000082</td>\n",
       "      <td>2019-01-01</td>\n",
       "      <td>NaN</td>\n",
       "      <td>femenino</td>\n",
       "      <td>45.0</td>\n",
       "      <td>leve</td>\n",
       "    </tr>\n",
       "  </tbody>\n",
       "</table>\n",
       "</div>"
      ],
      "text/plain": [
       "          id_hecho      fecha vehiculo_victima sexo_victima  edad_victima  \\\n",
       "0  LC-2019-0000053 2019-01-01              NaN    masculino          57.0   \n",
       "1  LC-2019-0000063 2019-01-01              NaN          NaN           NaN   \n",
       "2  LC-2019-0000079 2019-01-01              NaN    masculino           NaN   \n",
       "3  LC-2019-0000082 2019-01-01              NaN    masculino          45.0   \n",
       "4  LC-2019-0000082 2019-01-01              NaN     femenino          45.0   \n",
       "\n",
       "  gravedad  \n",
       "0     leve  \n",
       "1     leve  \n",
       "2     leve  \n",
       "3     leve  \n",
       "4     leve  "
      ]
     },
     "execution_count": 59,
     "metadata": {},
     "output_type": "execute_result"
    }
   ],
   "source": [
    "lesiones_victimas.head()"
   ]
  },
  {
   "cell_type": "markdown",
   "metadata": {},
   "source": [
    "### Concatenación de los DataFrames\n",
    "\n",
    "Realizaremos la concatenación de los DataFrames 'homicidios_hechos' y 'lesiones_hechos', así como de los DataFrames 'homicidios_victimas' y 'lesiones_victimas."
   ]
  },
  {
   "cell_type": "code",
   "execution_count": 60,
   "metadata": {},
   "outputs": [],
   "source": [
    "# Define el nuevo orden de las columnas para 'homicidios_hechos'\n",
    "nuevo_orden_homicidios_hechos = ['id_hecho', 'n_victimas', 'fecha', 'hh', 'tipo_calle', 'comuna',\n",
    "                                'longitud', 'latitud', 'victima', 'acusado', 'vehiculo1', 'vehiculo2',\n",
    "                                'gravedad']\n",
    "\n",
    "# Reordena las columnas en 'homicidios_hechos' según el nuevo orden\n",
    "homicidios_hechos = homicidios_hechos[nuevo_orden_homicidios_hechos]\n",
    "\n",
    "# Define el nuevo orden de las columnas para 'lesiones_hechos'\n",
    "nuevo_orden_lesiones_hechos = ['id_hecho', 'n_victimas', 'fecha', 'hh', 'comuna', 'tipo_calle',\n",
    "                               'longitud', 'latitud', 'victima', 'acusado', 'gravedad', 'vehiculo1',\n",
    "                               'vehiculo2']\n",
    "\n",
    "# Reordena las columnas en 'lesiones_hechos' según el nuevo orden\n",
    "lesiones_hechos = lesiones_hechos[nuevo_orden_lesiones_hechos]\n",
    "\n",
    "# Concatena los DataFrames\n",
    "hechos = pd.concat([homicidios_hechos, lesiones_hechos], ignore_index=True)\n",
    "\n"
   ]
  },
  {
   "cell_type": "markdown",
   "metadata": {},
   "source": [
    "Modificamos la autopista 'gral paz' por autopista"
   ]
  },
  {
   "cell_type": "code",
   "execution_count": 61,
   "metadata": {},
   "outputs": [],
   "source": [
    "hechos['tipo_calle'] = hechos['tipo_calle'].replace('gral paz', 'autopista')"
   ]
  },
  {
   "cell_type": "markdown",
   "metadata": {},
   "source": [
    "Concatenamos los DataFrames de las víctimas"
   ]
  },
  {
   "cell_type": "code",
   "execution_count": 62,
   "metadata": {},
   "outputs": [],
   "source": [
    "# Define el nuevo orden de las columnas para 'homicidios_victimas'\n",
    "nuevo_orden_homicidios_victimas = ['id_hecho', 'fecha', 'rol', 'vehiculo_victima', 'sexo_victima',\n",
    "                                   'edad_victima', 'gravedad']\n",
    "\n",
    "# Reordena las columnas en 'homicidios_victimas' según el nuevo orden\n",
    "homicidios_victimas = homicidios_victimas[nuevo_orden_homicidios_victimas]\n",
    "\n",
    "# Define el nuevo orden de las columnas para 'lesiones_victimas'\n",
    "nuevo_orden_lesiones_victimas = ['id_hecho', 'fecha', 'vehiculo_victima', 'sexo_victima', 'edad_victima',\n",
    "                                 'gravedad']\n",
    "\n",
    "# Reordena las columnas en 'lesiones_victimas' según el nuevo orden\n",
    "lesiones_victimas = lesiones_victimas[nuevo_orden_lesiones_victimas]\n",
    "\n",
    "# Concatena los DataFrames\n",
    "victimas = pd.concat([homicidios_victimas, lesiones_victimas], ignore_index=True)"
   ]
  },
  {
   "cell_type": "markdown",
   "metadata": {},
   "source": [
    "Realizar la modificación en el tipo de datos de nuestro DataFrame 'victimas' "
   ]
  },
  {
   "cell_type": "code",
   "execution_count": 63,
   "metadata": {},
   "outputs": [],
   "source": [
    "# Diccionario de conversión\n",
    "conversiones_victimas = {'id_hecho': str,'rol': 'category','vehiculo_victima': 'category','sexo_victima': 'category','gravedad': 'category'\n",
    "}\n",
    "\n",
    "# Aplicar las conversiones \n",
    "victimas = victimas.astype(conversiones_victimas)"
   ]
  },
  {
   "cell_type": "markdown",
   "metadata": {},
   "source": [
    "## 3. Carga:\n",
    "\n",
    "Convertir los DataFrames 'victimas' y 'hechos' en archivos CSV."
   ]
  },
  {
   "cell_type": "code",
   "execution_count": 64,
   "metadata": {},
   "outputs": [],
   "source": [
    "# Guardar el DataFrame 'hechos' en un archivo CSV\n",
    "hechos.to_csv('../Datasets/CSV/hechos.csv', index=False)\n",
    "\n",
    "# Guardar el DataFrame 'victimas' en un archivo CSV\n",
    "victimas.to_csv('../Datasets/CSV/victimas.csv', index=False)"
   ]
  }
 ],
 "metadata": {
  "kernelspec": {
   "display_name": "Python 3",
   "language": "python",
   "name": "python3"
  },
  "language_info": {
   "codemirror_mode": {
    "name": "ipython",
    "version": 3
   },
   "file_extension": ".py",
   "mimetype": "text/x-python",
   "name": "python",
   "nbconvert_exporter": "python",
   "pygments_lexer": "ipython3",
   "version": "3.11.6"
  }
 },
 "nbformat": 4,
 "nbformat_minor": 2
}
